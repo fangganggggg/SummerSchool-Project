{
 "cells": [
  {
   "cell_type": "markdown",
   "metadata": {},
   "source": [
    "# 借鉴Lab2 （使用Sobel算子提取Lena的边缘） 我这里的图片是名为Leo的图片\n",
    "# 01：OpenCV Sobel\n",
    "\n",
    "\n",
    "# Lab （使用Sobel算子提取Leo的边缘）\n",
    "\n",
    "## 检查Leo的图片 \n",
    "我们首先导入OpenCV-Python库用作图像处理（Sobel），matplotlib库用作绘图。"
   ]
  },
  {
   "cell_type": "code",
   "execution_count": null,
   "metadata": {},
   "outputs": [],
   "source": [
    "import cv2\n",
    "import numpy as np\n",
    "from matplotlib import pyplot as plt"
   ]
  },
  {
   "cell_type": "markdown",
   "metadata": {},
   "source": [
    "我们可以通过`imread`方法读取jpg格式的图片，原图是Leo一张531×531大小的图片,通过下面python代码imread导入jpg格式的Leo，接着用format读取尺寸print输出 img是原图"
   ]
  },
  {
   "cell_type": "code",
   "execution_count": null,
   "metadata": {
    "tags": []
   },
   "outputs": [],
   "source": [
    "img = cv2.imread(\"./Leo.jpg\")\n",
    "print(\"原始图像尺寸：{}\".format(img.shape))"
   ]
  },
  {
   "cell_type": "markdown",
   "metadata": {},
   "source": [
    "通过`imshow`方法进行图片显示，有点像是输出，区别于上面的print，这里的imshow可以显示图片"
   ]
  },
  {
   "cell_type": "code",
   "execution_count": null,
   "metadata": {
    "scrolled": false,
    "tags": []
   },
   "outputs": [],
   "source": [
    "plt.imshow(img[:,:,::-1])"
   ]
  },
  {
   "cell_type": "markdown",
   "metadata": {
    "tags": []
   },
   "source": [
    "### RGB图转灰度图\n",
    "将RGB图像转为灰度图，我们可以直观的看到数据维度的变化。  gray是灰度图 cv2.cvtColor（img, cv2.COLOR_BGR2GRAY）是转换灰度图代码  跟上面一样主要是先输出尺寸 再输出显示图片"
   ]
  },
  {
   "cell_type": "code",
   "execution_count": null,
   "metadata": {
    "scrolled": true
   },
   "outputs": [],
   "source": [
    "gray = cv2.cvtColor(img, cv2.COLOR_BGR2GRAY)\n",
    "print(\"灰度图尺寸：{}\".format(gray.shape))"
   ]
  },
  {
   "cell_type": "code",
   "execution_count": null,
   "metadata": {
    "scrolled": true
   },
   "outputs": [],
   "source": [
    "plt.imshow(gray,cmap='gray')"
   ]
  },
  {
   "cell_type": "markdown",
   "metadata": {},
   "source": [
    "### 使用Sobel算子提取边缘\n",
    "我们可以使用`Sobel`方法对图像提取边缘，最后两个参数表示导数x与y的阶数。\n",
    "- `sobel_x`与`sobel_y`为横向与纵向上的边缘检测结果\n",
    "- `sobel_res`为两者相加得到的梯度，并在0-255之间截断，即我们得到的结果"
   ]
  },
  {
   "cell_type": "code",
   "execution_count": null,
   "metadata": {},
   "outputs": [],
   "source": [
    "import time\n",
    "\n",
    "start_time = time.time()\n",
    "\n",
    "sobel_x =cv2.Sobel(gray,cv2.CV_8U ,1,0)\n",
    "sobel_y = cv2.Sobel(gray,cv2.CV_8U ,0,1)\n",
    "sobel_res = np.clip(sobel_x + sobel_y, 0, 255)\n",
    "\n",
    "end_time = time.time()\n",
    "\n",
    "print(\"耗时：{}s\".format(end_time - start_time))"
   ]
  },
  {
   "cell_type": "markdown",
   "metadata": {},
   "source": [
    "绘制上述三幅图像。"
   ]
  },
  {
   "cell_type": "code",
   "execution_count": null,
   "metadata": {},
   "outputs": [],
   "source": [
    "fig_sobel3 = plt.figure()\n",
    "fig_sobel3.set_figheight(4)\n",
    "fig_sobel3.set_figwidth(15)\n",
    "# gradient x\n",
    "fig_1 = fig_sobel3.add_subplot(131)\n",
    "fig_1.title.set_text('Gradient X')\n",
    "plt.imshow(sobel_x,cmap='gray')\n",
    "# gradient y\n",
    "fig_2 = fig_sobel3.add_subplot(132)\n",
    "fig_2.title.set_text('Gradient Y')\n",
    "plt.imshow(sobel_y,cmap='gray')\n",
    "# gradient\n",
    "fig_3 = fig_sobel3.add_subplot(133)\n",
    "fig_3.title.set_text('Gradient X + Y')\n",
    "plt.imshow(sobel_res,cmap='gray')"
   ]
  },
  {
   "cell_type": "markdown",
   "metadata": {},
   "source": [
    "# 02:  Hardware Sobel\n",
    "## 方式1：直接调用\n",
    "我们会在方式1中展示类似Lab1的直接调用方式，在方式2中将通过创建Driver来构建一个用户友好的API。\n",
    "### 载入Overlay\n",
    "\n",
    "将硬件设计部署到板卡上，根据图片尺寸分配内存，并将图像复制到对应位置。"
   ]
  },
  {
   "cell_type": "code",
   "execution_count": null,
   "metadata": {},
   "outputs": [],
   "source": [
    "from pynq import Overlay, allocate\n",
    "\n",
    "overlay = Overlay(\"./overlay_axis/sobel.bit\")\n",
    "\n",
    "sobel = overlay.sobel_0"
   ]
  },
  {
   "cell_type": "code",
   "execution_count": null,
   "metadata": {},
   "outputs": [],
   "source": [
    "# allocate memory\n",
    "rows, cols= gray.shape\n",
    "input_buffer = allocate(shape=(rows*cols,), dtype='u1')\n",
    "output_buffer = allocate(shape=(rows*cols,), dtype='u1')\n",
    "\n",
    "# input\n",
    "gray_new = np.uint8(gray)\n",
    "np.copyto(input_buffer, gray_new.flatten())"
   ]
  },
  {
   "cell_type": "markdown",
   "metadata": {},
   "source": [
    "### 写入参数\n",
    "在IP上写入值时，我们可以像Lab1一样根据HLS给出的IP Driver Source Code直接在对应位置写入："
   ]
  },
  {
   "cell_type": "code",
   "execution_count": null,
   "metadata": {},
   "outputs": [],
   "source": [
    "sobel.write(0x10, rows)\n",
    "sobel.write(0x18, cols)"
   ]
  },
  {
   "cell_type": "markdown",
   "metadata": {},
   "source": [
    "由于提供了`Sobel.hwh`文件，`sobel`对象已经包含了Register Map并将其暴露出来，我们可以直接打印查看各寄存器的信息："
   ]
  },
  {
   "cell_type": "code",
   "execution_count": null,
   "metadata": {},
   "outputs": [],
   "source": [
    "sobel.register_map"
   ]
  },
  {
   "cell_type": "markdown",
   "metadata": {},
   "source": [
    "我们也可以直接在Register Map中与其交互，而不需要去手动输入对应的地址："
   ]
  },
  {
   "cell_type": "code",
   "execution_count": null,
   "metadata": {},
   "outputs": [],
   "source": [
    "sobel.register_map.rows = rows\n",
    "sobel.register_map.cols = cols"
   ]
  },
  {
   "cell_type": "markdown",
   "metadata": {},
   "source": [
    "### 启动IP\n",
    "\n",
    "将IP中的DMA对象提取出来。"
   ]
  },
  {
   "cell_type": "code",
   "execution_count": null,
   "metadata": {},
   "outputs": [],
   "source": [
    "dma = overlay.axi_dma_0"
   ]
  },
  {
   "cell_type": "markdown",
   "metadata": {},
   "source": [
    "Sobel IP 使用了AXI Stream的接口格式。\n",
    "- 我们需要调用DMA读取输入缓冲，并将数据发送到AXI Stream Master\n",
    "- 之后，DMA应从AXI Stream Slave中将结果写回到输出缓冲中\n",
    "- `wait`语句确保了DMA的处理操作已经完成"
   ]
  },
  {
   "cell_type": "code",
   "execution_count": null,
   "metadata": {},
   "outputs": [],
   "source": [
    "import time\n",
    "\n",
    "sobel.register_map.CTRL.AP_START = 1\n",
    "\n",
    "start_time = time.time()\n",
    "\n",
    "dma.sendchannel.transfer(input_buffer)\n",
    "dma.recvchannel.transfer(output_buffer)\n",
    "dma.sendchannel.wait() # wait for send channel\n",
    "dma.recvchannel.wait() # wait for recv channel\n",
    "\n",
    "end_time = time.time()\n",
    "\n",
    "print(\"耗时：{}s\".format(end_time - start_time))"
   ]
  },
  {
   "cell_type": "markdown",
   "metadata": {},
   "source": [
    "将结果进行可视化。"
   ]
  },
  {
   "cell_type": "code",
   "execution_count": null,
   "metadata": {},
   "outputs": [],
   "source": [
    "plt.imshow(output_buffer.reshape(rows, cols),cmap='gray')"
   ]
  },
  {
   "cell_type": "markdown",
   "metadata": {},
   "source": [
    "## 方式2：为IP创建一个Driver\n",
    "创建一个用户有好的API将是我们的下一步，我们希望可以创建一个对于特定IP的驱动程序。\n",
    "- 公开单个的`sobel3x3`函数来调用加速器\n",
    "- 继承pynq的`DeafaultIP`"
   ]
  },
  {
   "cell_type": "code",
   "execution_count": null,
   "metadata": {},
   "outputs": [],
   "source": [
    "from pynq import DefaultIP\n",
    "\n",
    "class SobelDriver(DefaultIP):\n",
    "    def __init__(self, description):\n",
    "        super().__init__(description=description)\n",
    "\n",
    "    bindto = ['xilinx.com:hls:sobel:1.0']\n",
    "\n",
    "    def sobel3x3(self, imgi, imgo, rows, cols):      \n",
    "        \n",
    "        self.write(0x10, rows)\n",
    "        self.write(0x18, cols)\n",
    "        self.register_map.CTRL.AP_START = 1\n",
    "        \n",
    "        dma.sendchannel.transfer(imgi)\n",
    "        dma.recvchannel.transfer(imgo)\n",
    "        dma.sendchannel.wait() # wait for send channel\n",
    "        dma.recvchannel.wait() # wait for recv channel\n",
    "        \n",
    "        res = imgo.reshape(rows, cols)\n",
    "        return res"
   ]
  },
  {
   "cell_type": "markdown",
   "metadata": {},
   "source": [
    "重新载入Overlay使得更改生效："
   ]
  },
  {
   "cell_type": "code",
   "execution_count": null,
   "metadata": {},
   "outputs": [],
   "source": [
    "overlay = Overlay(\"./overlay_axis/sobel.bit\")\n",
    "dma = overlay.axi_dma_0\n",
    "sobel = overlay.sobel_0"
   ]
  },
  {
   "cell_type": "markdown",
   "metadata": {},
   "source": [
    "现在，我们可以直接调用上方描述的`sobel3x3`方法："
   ]
  },
  {
   "cell_type": "code",
   "execution_count": null,
   "metadata": {},
   "outputs": [],
   "source": [
    "res = sobel.sobel3x3(input_buffer, output_buffer, rows, cols)"
   ]
  },
  {
   "cell_type": "code",
   "execution_count": null,
   "metadata": {},
   "outputs": [],
   "source": [
    "plt.imshow(res,cmap='gray')"
   ]
  }
 ],
 "metadata": {
  "kernelspec": {
   "display_name": "Python 3 (ipykernel)",
   "language": "python",
   "name": "python3"
  },
  "language_info": {
   "codemirror_mode": {
    "name": "ipython",
    "version": 3
   },
   "file_extension": ".py",
   "mimetype": "text/x-python",
   "name": "python",
   "nbconvert_exporter": "python",
   "pygments_lexer": "ipython3",
   "version": "3.11.4"
  },
  "vscode": {
   "interpreter": {
    "hash": "7f5a6c9afddcb40f40375fedeb507de726d2d00f57e8a8afb8bf2a2494365881"
   }
  }
 },
 "nbformat": 4,
 "nbformat_minor": 4
}
